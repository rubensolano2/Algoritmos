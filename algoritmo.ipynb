{
  "nbformat": 4,
  "nbformat_minor": 0,
  "metadata": {
    "colab": {
      "provenance": [],
      "authorship_tag": "ABX9TyNU60cYQugcKZhvvLuVHCXI",
      "include_colab_link": true
    },
    "kernelspec": {
      "name": "python3",
      "display_name": "Python 3"
    },
    "language_info": {
      "name": "python"
    }
  },
  "cells": [
    {
      "cell_type": "markdown",
      "metadata": {
        "id": "view-in-github",
        "colab_type": "text"
      },
      "source": [
        "<a href=\"https://colab.research.google.com/github/rubensolano2/Algoritmos/blob/main/algoritmo.ipynb\" target=\"_parent\"><img src=\"https://colab.research.google.com/assets/colab-badge.svg\" alt=\"Open In Colab\"/></a>"
      ]
    },
    {
      "cell_type": "markdown",
      "source": [
        "#ALGORITMO DE LA SUMA DE 2 NUMEROS\n"
      ],
      "metadata": {
        "id": "ZOolEicOipnO"
      }
    },
    {
      "cell_type": "code",
      "source": [
        "import sys\n",
        "\n",
        "input = sys.stdin.read()\n",
        "tokens = input.split()\n",
        "a = int(tokens[0])\n",
        "b = int(tokens[1])\n",
        "print(a + b)"
      ],
      "metadata": {
        "id": "gAfmUuF0itPl"
      },
      "execution_count": null,
      "outputs": []
    },
    {
      "cell_type": "code",
      "execution_count": null,
      "metadata": {
        "id": "jIZKPwoNm2ZA",
        "colab": {
          "base_uri": "https://localhost:8080/"
        },
        "outputId": "e32ece72-67ac-4d66-cafa-f1e77b9af492"
      },
      "outputs": [
        {
          "output_type": "execute_result",
          "data": {
            "text/plain": [
              "12"
            ]
          },
          "metadata": {},
          "execution_count": 1
        }
      ],
      "source": [
        "def sum(n,k):\n",
        "  return n+k\n",
        "\n",
        "sum(8,4)"
      ]
    },
    {
      "cell_type": "markdown",
      "source": [
        "#ALGORITMO DE MÁXIMA MULTIPLICACIÓN DE DOS NUMEROS DADOS"
      ],
      "metadata": {
        "id": "Zsh6lUfZlDEH"
      }
    },
    {
      "cell_type": "markdown",
      "source": [
        "contiene dos ciclos anidados (un ciclo 'for' dentro de otro ciclo 'for'), cada uno con una cantidad de iteraciones proporcional al tamaño de la entrada (n). Al tener dos ciclos anidados, esto significa que el número de operaciones realizadas por el algoritmo es proporcional al cuadrado del tamaño de la entrada, es decir, O(n^2).\n",
        "\n",
        "En general, es posible determinar la complejidad temporal de un algoritmo al observar el código y identificando las estructuras de control de flujo utilizadas, como ciclos 'for' o 'while', estructuras condicionales, recursiones, etc. y el número de veces que se ejecutan."
      ],
      "metadata": {
        "id": "tHqvQtJalM2G"
      }
    },
    {
      "cell_type": "code",
      "source": [
        "# Uses python3\n",
        "n = int(input())\n",
        "a = [int(x) for x in input().split()]\n",
        "assert(len(a) == n)\n",
        "\n",
        "result = 0\n",
        "\n",
        "for i in range(0, n):\n",
        "    for j in range(i+1, n):\n",
        "        if a[i]*a[j] > result:\n",
        "            result = a[i]*a[j]\n",
        "\n",
        "print(result)\n"
      ],
      "metadata": {
        "id": "hZerFjrClsPP"
      },
      "execution_count": null,
      "outputs": []
    },
    {
      "cell_type": "markdown",
      "source": [
        "OPTIMIZACIÓN DE GPT3"
      ],
      "metadata": {
        "id": "Xi0MT52klvYP"
      }
    },
    {
      "cell_type": "code",
      "source": [
        "n = int(input())#entrada de datos\n",
        "a = [int(x) for x in input().split()] #entrada de lista de numeros\n",
        "assert(len(a) == n)\n",
        "\n",
        "result = 0 #CREACION DE VARIABLE DE RESULTADO\n",
        "max1 = -1 #creación de variable del maximo es -1 ya que el maximo podria ser 0 y el problema descarta los negativos\n",
        "max2 = -1 #lo mismo que lo de arriba pero para buscar el segundo numero\n",
        "\n",
        "for i in range(0, n): #bucle de 0 a n\n",
        "    if a[i] > max1: #condición en la que se ejecuta si el elemento i de la lista a es mayor que max1\n",
        "        max2 = max1 #entonces se guarda en max2 el resultado anterior que teniamos en max1\n",
        "        max1 = a[i] # se guarda en max1 el dato i de la lista a que toque en este ciclo\n",
        "    elif a[i] > max2: #si la anterior condición no se cumple se mira que i sea mator que max2\n",
        "        max2 = a[i] # si es así se iguala el nuevo valor a max2\n",
        "\n",
        "result = max1 * max2 #se realiza la multiplicación despues de encontar los mayores valores en el bucle\n",
        "print(result)"
      ],
      "metadata": {
        "id": "_1KcEmW_lMPP"
      },
      "execution_count": null,
      "outputs": []
    },
    {
      "cell_type": "markdown",
      "source": [
        "La función assert en Python es una herramienta para realizar afirmaciones o comprobaciones en tiempo de ejecución. Es utilizada para verificar que una determinada condición es verdadera, y si no lo es, genera una excepción AssertionError. La sintaxis es la siguiente:"
      ],
      "metadata": {
        "id": "XpG5HtM6nIIY"
      }
    },
    {
      "cell_type": "code",
      "source": [
        "assert condicion, mensaje_error\n"
      ],
      "metadata": {
        "id": "ta96lq4vnKAX"
      },
      "execution_count": null,
      "outputs": []
    }
  ]
}