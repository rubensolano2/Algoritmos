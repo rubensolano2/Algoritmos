{
  "nbformat": 4,
  "nbformat_minor": 0,
  "metadata": {
    "colab": {
      "provenance": [],
      "authorship_tag": "ABX9TyNXRwtDtxVgtYMqD8DfN6He",
      "include_colab_link": true
    },
    "kernelspec": {
      "name": "python3",
      "display_name": "Python 3"
    },
    "language_info": {
      "name": "python"
    }
  },
  "cells": [
    {
      "cell_type": "markdown",
      "metadata": {
        "id": "view-in-github",
        "colab_type": "text"
      },
      "source": [
        "<a href=\"https://colab.research.google.com/github/rubensolano2/Algoritmos/blob/main/algoritmo.ipynb\" target=\"_parent\"><img src=\"https://colab.research.google.com/assets/colab-badge.svg\" alt=\"Open In Colab\"/></a>"
      ]
    },
    {
      "cell_type": "markdown",
      "source": [
        "#ALGORITMO DE LA SUMA DE 2 NUMEROS\n"
      ],
      "metadata": {
        "id": "ZOolEicOipnO"
      }
    },
    {
      "cell_type": "code",
      "source": [
        "import sys\n",
        "\n",
        "input = sys.stdin.read()\n",
        "tokens = input.split()\n",
        "a = int(tokens[0])\n",
        "b = int(tokens[1])\n",
        "print(a + b)"
      ],
      "metadata": {
        "id": "gAfmUuF0itPl"
      },
      "execution_count": null,
      "outputs": []
    },
    {
      "cell_type": "code",
      "execution_count": null,
      "metadata": {
        "id": "jIZKPwoNm2ZA",
        "colab": {
          "base_uri": "https://localhost:8080/"
        },
        "outputId": "e32ece72-67ac-4d66-cafa-f1e77b9af492"
      },
      "outputs": [
        {
          "output_type": "execute_result",
          "data": {
            "text/plain": [
              "12"
            ]
          },
          "metadata": {},
          "execution_count": 1
        }
      ],
      "source": [
        "def sum(n,k):\n",
        "  return n+k\n",
        "\n",
        "sum(8,4)"
      ]
    },
    {
      "cell_type": "markdown",
      "source": [
        "#ALGORITMO DE MÁXIMA MULTIPLICACIÓN DE DOS NUMEROS DADOS"
      ],
      "metadata": {
        "id": "Zsh6lUfZlDEH"
      }
    },
    {
      "cell_type": "markdown",
      "source": [
        "contiene dos ciclos anidados (un ciclo 'for' dentro de otro ciclo 'for'), cada uno con una cantidad de iteraciones proporcional al tamaño de la entrada (n). Al tener dos ciclos anidados, esto significa que el número de operaciones realizadas por el algoritmo es proporcional al cuadrado del tamaño de la entrada, es decir, O(n^2).\n",
        "\n",
        "En general, es posible determinar la complejidad temporal de un algoritmo al observar el código y identificando las estructuras de control de flujo utilizadas, como ciclos 'for' o 'while', estructuras condicionales, recursiones, etc. y el número de veces que se ejecutan."
      ],
      "metadata": {
        "id": "tHqvQtJalM2G"
      }
    },
    {
      "cell_type": "code",
      "source": [
        "# Uses python3\n",
        "n = int(input())\n",
        "a = [int(x) for x in input().split()]\n",
        "assert(len(a) == n)\n",
        "\n",
        "result = 0\n",
        "\n",
        "for i in range(0, n):\n",
        "    for j in range(i+1, n):\n",
        "        if a[i]*a[j] > result:\n",
        "            result = a[i]*a[j]\n",
        "\n",
        "print(result)\n"
      ],
      "metadata": {
        "id": "hZerFjrClsPP"
      },
      "execution_count": null,
      "outputs": []
    },
    {
      "cell_type": "markdown",
      "source": [
        "OPTIMIZACIÓN DE GPT3"
      ],
      "metadata": {
        "id": "Xi0MT52klvYP"
      }
    },
    {
      "cell_type": "code",
      "source": [
        "n = int(input())#entrada de datos\n",
        "a = [int(x) for x in input().split()] #entrada de lista de numeros\n",
        "assert(len(a) == n)\n",
        "\n",
        "result = 0 #CREACION DE VARIABLE DE RESULTADO\n",
        "max1 = -1 #creación de variable del maximo es -1 ya que el maximo podria ser 0 y el problema descarta los negativos\n",
        "max2 = -1 #lo mismo que lo de arriba pero para buscar el segundo numero\n",
        "\n",
        "for i in range(0, n): #bucle de 0 a n\n",
        "    if a[i] > max1: #condición en la que se ejecuta si el elemento i de la lista a es mayor que max1\n",
        "        max2 = max1 #entonces se guarda en max2 el resultado anterior que teniamos en max1 ya que estamos buscando el mayor de la lista y si ya lo encontramos para uno lo podemos usar para el otro\n",
        "        max1 = a[i] # se guarda en max1 el dato i de la lista a que toque en este ciclo\n",
        "    elif a[i] > max2: #si la anterior condición no se cumple se mira que i sea mator que max2\n",
        "        max2 = a[i] # si es así se iguala el nuevo valor a max2\n",
        "\n",
        "result = max1 * max2 #se realiza la multiplicación despues de encontar los mayores valores en el bucle\n",
        "print(result)"
      ],
      "metadata": {
        "colab": {
          "base_uri": "https://localhost:8080/"
        },
        "id": "_1KcEmW_lMPP",
        "outputId": "08327ab2-0998-43e4-9388-123db6d5fb9d"
      },
      "execution_count": null,
      "outputs": [
        {
          "output_type": "stream",
          "name": "stdout",
          "text": [
            "7\n",
            "2 4 5 6 7 8 9\n",
            "72\n"
          ]
        }
      ]
    },
    {
      "cell_type": "markdown",
      "source": [
        "La función assert en Python es una herramienta para realizar afirmaciones o comprobaciones en tiempo de ejecución. Es utilizada para verificar que una determinada condición es verdadera, y si no lo es, genera una excepción AssertionError. La sintaxis es la siguiente:"
      ],
      "metadata": {
        "id": "XpG5HtM6nIIY"
      }
    },
    {
      "cell_type": "code",
      "source": [
        "assert condicion, mensaje_error\n"
      ],
      "metadata": {
        "id": "ta96lq4vnKAX"
      },
      "execution_count": null,
      "outputs": []
    },
    {
      "cell_type": "markdown",
      "source": [
        "#FIBONACCI NUMERO"
      ],
      "metadata": {
        "id": "Il8kuEjni1-i"
      }
    },
    {
      "cell_type": "markdown",
      "source": [
        "código base (sucesión de Fibonacci)"
      ],
      "metadata": {
        "id": "cPlTiZPvmmG7"
      }
    },
    {
      "cell_type": "code",
      "source": [
        "# Uses python3\n",
        "def calc_fib(n):\n",
        "    if (n <= 1):\n",
        "        return n\n",
        "\n",
        "    return calc_fib(n - 1) + calc_fib(n - 2)\n",
        "\n",
        "n = int(input())\n",
        "print(calc_fib(n))\n"
      ],
      "metadata": {
        "colab": {
          "base_uri": "https://localhost:8080/"
        },
        "id": "sMJHduEEi9hh",
        "outputId": "edc500e9-64a4-4cd3-ae86-489271c84770"
      },
      "execution_count": null,
      "outputs": [
        {
          "output_type": "stream",
          "name": "stdout",
          "text": [
            "40\n",
            "102334155\n"
          ]
        }
      ]
    },
    {
      "cell_type": "markdown",
      "source": [
        "OPTIMIZACIÓN"
      ],
      "metadata": {
        "id": "4BPxxtlMnQNc"
      }
    },
    {
      "cell_type": "code",
      "source": [
        "def calc_fib(n): #definición de la función\n",
        "    if n == 0: #caso en el que introduzcamos que n es = a 0\n",
        "      return 0 #devuelve directamente 0 ya que no usamos numeros negativos\n",
        "    elif n == 1: #si no y el numero introducido es 1, pasa exactamente igual devuelve 1\n",
        "      return 1\n",
        "    else: #aquí empieza el verdadero algoritmo de programación dinámica\n",
        "      a = 0 #definimos los dos primero valores con los que poder ir guardando los resultados\n",
        "      b = 1 \n",
        "      for i in range(0, n-1): #creamos un bucle que se repetirá desde 0 a n-1\n",
        "        c = a + b  # se suma los datos guardados en nuestras listas en cada vuelta de bucle\n",
        "        a = b  #se guarda el dato b en la lista a\n",
        "        b = c #se guarda la suma de c en la lista b\n",
        "      return b #cuando termian el bucle se devuelve el valor guardado en la lista b\n",
        "      #Nos lo podemos imaginar como un carrusel que a cada vuelta de bucle va avanzando y podemos ir viendo cómo progresan los números\n",
        "\n",
        "n = int(input())\n",
        "print(calc_fib(n))"
      ],
      "metadata": {
        "id": "6b-ZEG8Hx2HM"
      },
      "execution_count": null,
      "outputs": []
    },
    {
      "cell_type": "markdown",
      "source": [
        "#FIBONACCI ULTIMO DIGITO"
      ],
      "metadata": {
        "id": "Yn8i9FM6qzdZ"
      }
    },
    {
      "cell_type": "markdown",
      "source": [
        "El patrón de los últimos dígitos de los números de Fibonacci se refiere a la forma en que los últimos dígitos de los números de Fibonacci se repiten en un ciclo.\n",
        "\n",
        "Por ejemplo, si comenzamos con los dos primeros números de Fibonacci, 0 y 1, y los vamos sumando, obtendremos la siguiente secuencia de últimos dígitos: 0, 1, 1, 2, 3, 5, 8, 3, 1, 4, 5, 9, 4, 3, 7, 0, 7, 7, 4, 1, 5, 6, 1, 7, 8, 5, 3, 8, 1, 9, 0, 9, 9, 8, 7, 5, 2, 7, 9, 6, 5, 1, 6, 7, 3, 0, 3, 3, 6, 9, 5, 4, 9, 3, 2, 5, 7, 2, 9, 1."
      ],
      "metadata": {
        "id": "PX1tuOCl1X87"
      }
    },
    {
      "cell_type": "code",
      "source": [
        "Lista_finacci = [0, 1, 1, 2, 3, 5, 8, 3, 1, 4, 5, 9, 4, 3, 7, 0, 7, 7, 4, 1, 5, 6, 1, 7, 8, 5, 3, 8, 1, 9, 0, 9, 9, 8, 7, 5, 2, 7, 9, 6, 5, 1, 6, 7, 3, 0, 3, 3, 6, 9, 5, 4, 9, 3, 2, 5, 7, 2, 9, 1]\n",
        "#Se puede hacer listas de numeros usando []\n",
        "#además se puede ir dato a dato usando la variable[i]"
      ],
      "metadata": {
        "id": "K76_dr3041Sk"
      },
      "execution_count": null,
      "outputs": []
    },
    {
      "cell_type": "code",
      "source": [
        "def calc_fib(n): #definición de la función\n",
        "  Lista_finacci = [0, 1, 1, 2, 3, 5, 8, 3, 1, 4, 5, 9, 4, 3, 7, 0, 7, 7, 4, 1, 5, 6, 1, 7, 8, 5, 3, 8, 1, 9, 0, 9, 9, 8, 7, 5, 2, 7, 9, 6, 5, 1, 6, 7, 3, 0, 3, 3, 6, 9, 5, 4, 9, 3, 2, 5, 7, 2, 9, 1] \n",
        "  #Patrón de fibonnaci , se repite cada 60 cálculos el numero final\n",
        "  numero_entero= n // 60 #cálculo del número de repeticiones del patrón completo\n",
        "  numero_indice = n-60*numero_entero #cálculo del número dentro del patrón\n",
        "  calculo_final = Lista_finacci[numero_indice] #selección del numero en el patrón guardao en una variable\n",
        "  return calculo_final    \n",
        "\n",
        "n = int(input())\n",
        "print(calc_fib(n))"
      ],
      "metadata": {
        "colab": {
          "base_uri": "https://localhost:8080/"
        },
        "id": "0bBvhDWTqxqq",
        "outputId": "f369d3e2-7c9a-45c5-fc1b-da5662ea0e5c"
      },
      "execution_count": null,
      "outputs": [
        {
          "output_type": "stream",
          "name": "stdout",
          "text": [
            "20\n",
            "5\n"
          ]
        }
      ]
    },
    {
      "cell_type": "code",
      "source": [
        "40%3"
      ],
      "metadata": {
        "colab": {
          "base_uri": "https://localhost:8080/"
        },
        "id": "HQ7x5tp77JJ6",
        "outputId": "5c4bda2d-e159-429a-fb3d-b9a24b8c8562"
      },
      "execution_count": null,
      "outputs": [
        {
          "output_type": "execute_result",
          "data": {
            "text/plain": [
              "1"
            ]
          },
          "metadata": {},
          "execution_count": 25
        }
      ]
    },
    {
      "cell_type": "markdown",
      "source": [
        "#MAXIMO COMÚN DIVISOR"
      ],
      "metadata": {
        "id": "Ke-NBopBm1wz"
      }
    },
    {
      "cell_type": "code",
      "source": [
        "# Uses python3\n",
        "import sys\n",
        "def gcd_naive(a,b):\n",
        "  primos_a=(min(a,b))\n",
        "  for d in range(min(a,b)+1, 2):\n",
        "    print(d)\n",
        "    #if a % d == 0 and b % d == 0:\n",
        "     # if d > primos_a:\n",
        "      #  primos_a=d\n",
        "  return d\n",
        "\n",
        "\n",
        "   \n",
        "a=99999999999999999999999\n",
        "b=70\n",
        "print(gcd_naive(a, b))\n"
      ],
      "metadata": {
        "colab": {
          "base_uri": "https://localhost:8080/"
        },
        "id": "_q2Ro1QJm37k",
        "outputId": "b5e10e8d-6ab6-4171-864b-a5433cd15b69"
      },
      "execution_count": null,
      "outputs": [
        {
          "output_type": "stream",
          "name": "stdout",
          "text": [
            "None\n"
          ]
        }
      ]
    },
    {
      "cell_type": "code",
      "source": [
        "def gcd_naive(a,b):\n",
        "  primos_a=1\n",
        "  for d range(2, min(a,b)+1):\n",
        "    if a % d == 0 and b % d == 0:\n",
        "      if d > primos_a:\n",
        "        primos_a=a\n",
        "  print(primos_a)\n",
        "  \n",
        " "
      ],
      "metadata": {
        "id": "1-YewCJVo6lW"
      },
      "execution_count": null,
      "outputs": []
    },
    {
      "cell_type": "markdown",
      "source": [
        "Algorítmo de Euclides:"
      ],
      "metadata": {
        "id": "uF50RqrDxLvR"
      }
    },
    {
      "cell_type": "markdown",
      "source": [
        "Explicacion Algoritmo de Ecluides:\n",
        "\n"
      ],
      "metadata": {
        "id": "EDERKiqz04QD"
      }
    },
    {
      "cell_type": "code",
      "source": [
        "def mcd(a,b): if a == 0: return b if b == 0: return a return gcd_naive(b, a % b)"
      ],
      "metadata": {
        "id": "eUdgFQ0Ax1DJ"
      },
      "execution_count": null,
      "outputs": []
    },
    {
      "cell_type": "code",
      "source": [
        "def gcd_naive(a,b): \n",
        "  if a == 0:\n",
        "    return b\n",
        "  if b == 0:\n",
        "    return a\n",
        "  return gcd_naive(b, a % b)\n",
        "\n",
        "\n",
        "print(gcd_naive(270, 192))\n",
        "\n",
        "  \n",
        "\n"
      ],
      "metadata": {
        "colab": {
          "base_uri": "https://localhost:8080/"
        },
        "id": "ZTEZV1d-xXmg",
        "outputId": "c98c3298-104e-4034-8941-9efe288ae323"
      },
      "execution_count": null,
      "outputs": [
        {
          "output_type": "stream",
          "name": "stdout",
          "text": [
            "6\n"
          ]
        }
      ]
    },
    {
      "cell_type": "markdown",
      "source": [
        "#MÍNIMO COMÚN MULTIPLO"
      ],
      "metadata": {
        "id": "oR3cvSzQ1D1z"
      }
    },
    {
      "cell_type": "code",
      "source": [
        "https://www.youtube.com/watch?v=x6qFMSRpgpM&ab_channel=Aula4ALL"
      ],
      "metadata": {
        "id": "mIAk0Shv1Ijy"
      },
      "execution_count": null,
      "outputs": []
    }
  ]
}